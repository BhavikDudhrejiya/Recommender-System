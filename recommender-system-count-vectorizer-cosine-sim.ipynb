{
 "cells": [
  {
   "cell_type": "code",
   "execution_count": 1,
   "id": "adult-rider",
   "metadata": {
    "_cell_guid": "b1076dfc-b9ad-4769-8c92-a6c4dae69d19",
    "_uuid": "8f2839f25d086af736a60e9eeb907d3b93b6e0e5",
    "execution": {
     "iopub.execute_input": "2021-06-14T13:16:24.763695Z",
     "iopub.status.busy": "2021-06-14T13:16:24.763050Z",
     "iopub.status.idle": "2021-06-14T13:16:24.775060Z",
     "shell.execute_reply": "2021-06-14T13:16:24.775625Z",
     "shell.execute_reply.started": "2021-06-14T13:03:26.365844Z"
    },
    "papermill": {
     "duration": 0.037527,
     "end_time": "2021-06-14T13:16:24.776022",
     "exception": false,
     "start_time": "2021-06-14T13:16:24.738495",
     "status": "completed"
    },
    "tags": []
   },
   "outputs": [
    {
     "name": "stdout",
     "output_type": "stream",
     "text": [
      "/kaggle/input/movies-dataset-recommender-system/movie_dataset.csv\n"
     ]
    }
   ],
   "source": [
    "# This Python 3 environment comes with many helpful analytics libraries installed\n",
    "# It is defined by the kaggle/python Docker image: https://github.com/kaggle/docker-python\n",
    "# For example, here's several helpful packages to load\n",
    "\n",
    "import numpy as np # linear algebra\n",
    "import pandas as pd # data processing, CSV file I/O (e.g. pd.read_csv)\n",
    "\n",
    "# Input data files are available in the read-only \"../input/\" directory\n",
    "# For example, running this (by clicking run or pressing Shift+Enter) will list all files under the input directory\n",
    "\n",
    "import os\n",
    "for dirname, _, filenames in os.walk('/kaggle/input'):\n",
    "    for filename in filenames:\n",
    "        print(os.path.join(dirname, filename))\n",
    "\n",
    "# You can write up to 20GB to the current directory (/kaggle/working/) that gets preserved as output when you create a version using \"Save & Run All\" \n",
    "# You can also write temporary files to /kaggle/temp/, but they won't be saved outside of the current session"
   ]
  },
  {
   "cell_type": "code",
   "execution_count": 2,
   "id": "confident-arctic",
   "metadata": {
    "execution": {
     "iopub.execute_input": "2021-06-14T13:16:24.816794Z",
     "iopub.status.busy": "2021-06-14T13:16:24.815894Z",
     "iopub.status.idle": "2021-06-14T13:16:26.045752Z",
     "shell.execute_reply": "2021-06-14T13:16:26.045053Z",
     "shell.execute_reply.started": "2021-06-14T13:05:51.405682Z"
    },
    "papermill": {
     "duration": 1.251529,
     "end_time": "2021-06-14T13:16:26.045900",
     "exception": false,
     "start_time": "2021-06-14T13:16:24.794371",
     "status": "completed"
    },
    "tags": []
   },
   "outputs": [],
   "source": [
    "#Importing libraries\n",
    "import pandas as pd\n",
    "import numpy as np\n",
    "from sklearn.feature_extraction.text import CountVectorizer\n",
    "from sklearn.metrics.pairwise import cosine_similarity\n",
    "import warnings\n",
    "warnings.filterwarnings('ignore')"
   ]
  },
  {
   "cell_type": "code",
   "execution_count": 3,
   "id": "interesting-workplace",
   "metadata": {
    "execution": {
     "iopub.execute_input": "2021-06-14T13:16:26.084466Z",
     "iopub.status.busy": "2021-06-14T13:16:26.083670Z",
     "iopub.status.idle": "2021-06-14T13:16:26.779363Z",
     "shell.execute_reply": "2021-06-14T13:16:26.778668Z",
     "shell.execute_reply.started": "2021-06-14T13:04:03.185327Z"
    },
    "papermill": {
     "duration": 0.717273,
     "end_time": "2021-06-14T13:16:26.779544",
     "exception": false,
     "start_time": "2021-06-14T13:16:26.062271",
     "status": "completed"
    },
    "tags": []
   },
   "outputs": [],
   "source": [
    "#Loading data\n",
    "data = pd.read_csv('/kaggle/input/movies-dataset-recommender-system/movie_dataset.csv')"
   ]
  },
  {
   "cell_type": "code",
   "execution_count": 4,
   "id": "solid-contributor",
   "metadata": {
    "execution": {
     "iopub.execute_input": "2021-06-14T13:16:26.820930Z",
     "iopub.status.busy": "2021-06-14T13:16:26.820221Z",
     "iopub.status.idle": "2021-06-14T13:16:26.826183Z",
     "shell.execute_reply": "2021-06-14T13:16:26.825480Z",
     "shell.execute_reply.started": "2021-06-14T13:04:14.997884Z"
    },
    "papermill": {
     "duration": 0.030274,
     "end_time": "2021-06-14T13:16:26.826335",
     "exception": false,
     "start_time": "2021-06-14T13:16:26.796061",
     "status": "completed"
    },
    "tags": []
   },
   "outputs": [
    {
     "data": {
      "text/plain": [
       "(4803, 24)"
      ]
     },
     "execution_count": 4,
     "metadata": {},
     "output_type": "execute_result"
    }
   ],
   "source": [
    "#Checking shape of the data\n",
    "data.shape"
   ]
  },
  {
   "cell_type": "code",
   "execution_count": 5,
   "id": "stable-marathon",
   "metadata": {
    "execution": {
     "iopub.execute_input": "2021-06-14T13:16:26.881370Z",
     "iopub.status.busy": "2021-06-14T13:16:26.880697Z",
     "iopub.status.idle": "2021-06-14T13:16:26.909767Z",
     "shell.execute_reply": "2021-06-14T13:16:26.909196Z",
     "shell.execute_reply.started": "2021-06-14T13:04:32.514171Z"
    },
    "papermill": {
     "duration": 0.066777,
     "end_time": "2021-06-14T13:16:26.909933",
     "exception": false,
     "start_time": "2021-06-14T13:16:26.843156",
     "status": "completed"
    },
    "tags": []
   },
   "outputs": [
    {
     "data": {
      "text/html": [
       "<div>\n",
       "<style scoped>\n",
       "    .dataframe tbody tr th:only-of-type {\n",
       "        vertical-align: middle;\n",
       "    }\n",
       "\n",
       "    .dataframe tbody tr th {\n",
       "        vertical-align: top;\n",
       "    }\n",
       "\n",
       "    .dataframe thead th {\n",
       "        text-align: right;\n",
       "    }\n",
       "</style>\n",
       "<table border=\"1\" class=\"dataframe\">\n",
       "  <thead>\n",
       "    <tr style=\"text-align: right;\">\n",
       "      <th></th>\n",
       "      <th>index</th>\n",
       "      <th>budget</th>\n",
       "      <th>genres</th>\n",
       "      <th>homepage</th>\n",
       "      <th>id</th>\n",
       "      <th>keywords</th>\n",
       "      <th>original_language</th>\n",
       "      <th>original_title</th>\n",
       "      <th>overview</th>\n",
       "      <th>popularity</th>\n",
       "      <th>...</th>\n",
       "      <th>runtime</th>\n",
       "      <th>spoken_languages</th>\n",
       "      <th>status</th>\n",
       "      <th>tagline</th>\n",
       "      <th>title</th>\n",
       "      <th>vote_average</th>\n",
       "      <th>vote_count</th>\n",
       "      <th>cast</th>\n",
       "      <th>crew</th>\n",
       "      <th>director</th>\n",
       "    </tr>\n",
       "  </thead>\n",
       "  <tbody>\n",
       "    <tr>\n",
       "      <th>0</th>\n",
       "      <td>0</td>\n",
       "      <td>237000000</td>\n",
       "      <td>Action Adventure Fantasy Science Fiction</td>\n",
       "      <td>http://www.avatarmovie.com/</td>\n",
       "      <td>19995</td>\n",
       "      <td>culture clash future space war space colony so...</td>\n",
       "      <td>en</td>\n",
       "      <td>Avatar</td>\n",
       "      <td>In the 22nd century, a paraplegic Marine is di...</td>\n",
       "      <td>150.437577</td>\n",
       "      <td>...</td>\n",
       "      <td>162.0</td>\n",
       "      <td>[{\"iso_639_1\": \"en\", \"name\": \"English\"}, {\"iso...</td>\n",
       "      <td>Released</td>\n",
       "      <td>Enter the World of Pandora.</td>\n",
       "      <td>Avatar</td>\n",
       "      <td>7.2</td>\n",
       "      <td>11800</td>\n",
       "      <td>Sam Worthington Zoe Saldana Sigourney Weaver S...</td>\n",
       "      <td>[{'name': 'Stephen E. Rivkin', 'gender': 0, 'd...</td>\n",
       "      <td>James Cameron</td>\n",
       "    </tr>\n",
       "    <tr>\n",
       "      <th>1</th>\n",
       "      <td>1</td>\n",
       "      <td>300000000</td>\n",
       "      <td>Adventure Fantasy Action</td>\n",
       "      <td>http://disney.go.com/disneypictures/pirates/</td>\n",
       "      <td>285</td>\n",
       "      <td>ocean drug abuse exotic island east india trad...</td>\n",
       "      <td>en</td>\n",
       "      <td>Pirates of the Caribbean: At World's End</td>\n",
       "      <td>Captain Barbossa, long believed to be dead, ha...</td>\n",
       "      <td>139.082615</td>\n",
       "      <td>...</td>\n",
       "      <td>169.0</td>\n",
       "      <td>[{\"iso_639_1\": \"en\", \"name\": \"English\"}]</td>\n",
       "      <td>Released</td>\n",
       "      <td>At the end of the world, the adventure begins.</td>\n",
       "      <td>Pirates of the Caribbean: At World's End</td>\n",
       "      <td>6.9</td>\n",
       "      <td>4500</td>\n",
       "      <td>Johnny Depp Orlando Bloom Keira Knightley Stel...</td>\n",
       "      <td>[{'name': 'Dariusz Wolski', 'gender': 2, 'depa...</td>\n",
       "      <td>Gore Verbinski</td>\n",
       "    </tr>\n",
       "  </tbody>\n",
       "</table>\n",
       "<p>2 rows × 24 columns</p>\n",
       "</div>"
      ],
      "text/plain": [
       "   index     budget                                    genres  \\\n",
       "0      0  237000000  Action Adventure Fantasy Science Fiction   \n",
       "1      1  300000000                  Adventure Fantasy Action   \n",
       "\n",
       "                                       homepage     id  \\\n",
       "0                   http://www.avatarmovie.com/  19995   \n",
       "1  http://disney.go.com/disneypictures/pirates/    285   \n",
       "\n",
       "                                            keywords original_language  \\\n",
       "0  culture clash future space war space colony so...                en   \n",
       "1  ocean drug abuse exotic island east india trad...                en   \n",
       "\n",
       "                             original_title  \\\n",
       "0                                    Avatar   \n",
       "1  Pirates of the Caribbean: At World's End   \n",
       "\n",
       "                                            overview  popularity  ... runtime  \\\n",
       "0  In the 22nd century, a paraplegic Marine is di...  150.437577  ...   162.0   \n",
       "1  Captain Barbossa, long believed to be dead, ha...  139.082615  ...   169.0   \n",
       "\n",
       "                                    spoken_languages    status  \\\n",
       "0  [{\"iso_639_1\": \"en\", \"name\": \"English\"}, {\"iso...  Released   \n",
       "1           [{\"iso_639_1\": \"en\", \"name\": \"English\"}]  Released   \n",
       "\n",
       "                                          tagline  \\\n",
       "0                     Enter the World of Pandora.   \n",
       "1  At the end of the world, the adventure begins.   \n",
       "\n",
       "                                      title vote_average vote_count  \\\n",
       "0                                    Avatar          7.2      11800   \n",
       "1  Pirates of the Caribbean: At World's End          6.9       4500   \n",
       "\n",
       "                                                cast  \\\n",
       "0  Sam Worthington Zoe Saldana Sigourney Weaver S...   \n",
       "1  Johnny Depp Orlando Bloom Keira Knightley Stel...   \n",
       "\n",
       "                                                crew        director  \n",
       "0  [{'name': 'Stephen E. Rivkin', 'gender': 0, 'd...   James Cameron  \n",
       "1  [{'name': 'Dariusz Wolski', 'gender': 2, 'depa...  Gore Verbinski  \n",
       "\n",
       "[2 rows x 24 columns]"
      ]
     },
     "execution_count": 5,
     "metadata": {},
     "output_type": "execute_result"
    }
   ],
   "source": [
    "#Checking dataset\n",
    "data.head(2)"
   ]
  },
  {
   "cell_type": "code",
   "execution_count": 6,
   "id": "leading-service",
   "metadata": {
    "execution": {
     "iopub.execute_input": "2021-06-14T13:16:26.952527Z",
     "iopub.status.busy": "2021-06-14T13:16:26.951810Z",
     "iopub.status.idle": "2021-06-14T13:16:26.955948Z",
     "shell.execute_reply": "2021-06-14T13:16:26.955250Z",
     "shell.execute_reply.started": "2021-06-14T13:04:45.889206Z"
    },
    "papermill": {
     "duration": 0.028894,
     "end_time": "2021-06-14T13:16:26.956115",
     "exception": false,
     "start_time": "2021-06-14T13:16:26.927221",
     "status": "completed"
    },
    "tags": []
   },
   "outputs": [
    {
     "data": {
      "text/plain": [
       "Index(['index', 'budget', 'genres', 'homepage', 'id', 'keywords',\n",
       "       'original_language', 'original_title', 'overview', 'popularity',\n",
       "       'production_companies', 'production_countries', 'release_date',\n",
       "       'revenue', 'runtime', 'spoken_languages', 'status', 'tagline', 'title',\n",
       "       'vote_average', 'vote_count', 'cast', 'crew', 'director'],\n",
       "      dtype='object')"
      ]
     },
     "execution_count": 6,
     "metadata": {},
     "output_type": "execute_result"
    }
   ],
   "source": [
    "#Checking list of variables in the data\n",
    "data.columns"
   ]
  },
  {
   "cell_type": "code",
   "execution_count": 7,
   "id": "conservative-timber",
   "metadata": {
    "execution": {
     "iopub.execute_input": "2021-06-14T13:16:27.007320Z",
     "iopub.status.busy": "2021-06-14T13:16:27.006477Z",
     "iopub.status.idle": "2021-06-14T13:16:27.012138Z",
     "shell.execute_reply": "2021-06-14T13:16:27.011446Z",
     "shell.execute_reply.started": "2021-06-14T13:04:54.683459Z"
    },
    "papermill": {
     "duration": 0.038187,
     "end_time": "2021-06-14T13:16:27.012311",
     "exception": false,
     "start_time": "2021-06-14T13:16:26.974124",
     "status": "completed"
    },
    "tags": []
   },
   "outputs": [
    {
     "data": {
      "text/html": [
       "<div>\n",
       "<style scoped>\n",
       "    .dataframe tbody tr th:only-of-type {\n",
       "        vertical-align: middle;\n",
       "    }\n",
       "\n",
       "    .dataframe tbody tr th {\n",
       "        vertical-align: top;\n",
       "    }\n",
       "\n",
       "    .dataframe thead th {\n",
       "        text-align: right;\n",
       "    }\n",
       "</style>\n",
       "<table border=\"1\" class=\"dataframe\">\n",
       "  <thead>\n",
       "    <tr style=\"text-align: right;\">\n",
       "      <th></th>\n",
       "      <th>keywords</th>\n",
       "      <th>cast</th>\n",
       "      <th>genres</th>\n",
       "      <th>director</th>\n",
       "    </tr>\n",
       "  </thead>\n",
       "  <tbody>\n",
       "    <tr>\n",
       "      <th>0</th>\n",
       "      <td>culture clash future space war space colony so...</td>\n",
       "      <td>Sam Worthington Zoe Saldana Sigourney Weaver S...</td>\n",
       "      <td>Action Adventure Fantasy Science Fiction</td>\n",
       "      <td>James Cameron</td>\n",
       "    </tr>\n",
       "    <tr>\n",
       "      <th>1</th>\n",
       "      <td>ocean drug abuse exotic island east india trad...</td>\n",
       "      <td>Johnny Depp Orlando Bloom Keira Knightley Stel...</td>\n",
       "      <td>Adventure Fantasy Action</td>\n",
       "      <td>Gore Verbinski</td>\n",
       "    </tr>\n",
       "    <tr>\n",
       "      <th>2</th>\n",
       "      <td>spy based on novel secret agent sequel mi6</td>\n",
       "      <td>Daniel Craig Christoph Waltz L\\u00e9a Seydoux ...</td>\n",
       "      <td>Action Adventure Crime</td>\n",
       "      <td>Sam Mendes</td>\n",
       "    </tr>\n",
       "    <tr>\n",
       "      <th>3</th>\n",
       "      <td>dc comics crime fighter terrorist secret ident...</td>\n",
       "      <td>Christian Bale Michael Caine Gary Oldman Anne ...</td>\n",
       "      <td>Action Crime Drama Thriller</td>\n",
       "      <td>Christopher Nolan</td>\n",
       "    </tr>\n",
       "    <tr>\n",
       "      <th>4</th>\n",
       "      <td>based on novel mars medallion space travel pri...</td>\n",
       "      <td>Taylor Kitsch Lynn Collins Samantha Morton Wil...</td>\n",
       "      <td>Action Adventure Science Fiction</td>\n",
       "      <td>Andrew Stanton</td>\n",
       "    </tr>\n",
       "  </tbody>\n",
       "</table>\n",
       "</div>"
      ],
      "text/plain": [
       "                                            keywords  \\\n",
       "0  culture clash future space war space colony so...   \n",
       "1  ocean drug abuse exotic island east india trad...   \n",
       "2         spy based on novel secret agent sequel mi6   \n",
       "3  dc comics crime fighter terrorist secret ident...   \n",
       "4  based on novel mars medallion space travel pri...   \n",
       "\n",
       "                                                cast  \\\n",
       "0  Sam Worthington Zoe Saldana Sigourney Weaver S...   \n",
       "1  Johnny Depp Orlando Bloom Keira Knightley Stel...   \n",
       "2  Daniel Craig Christoph Waltz L\\u00e9a Seydoux ...   \n",
       "3  Christian Bale Michael Caine Gary Oldman Anne ...   \n",
       "4  Taylor Kitsch Lynn Collins Samantha Morton Wil...   \n",
       "\n",
       "                                     genres           director  \n",
       "0  Action Adventure Fantasy Science Fiction      James Cameron  \n",
       "1                  Adventure Fantasy Action     Gore Verbinski  \n",
       "2                    Action Adventure Crime         Sam Mendes  \n",
       "3               Action Crime Drama Thriller  Christopher Nolan  \n",
       "4          Action Adventure Science Fiction     Andrew Stanton  "
      ]
     },
     "execution_count": 7,
     "metadata": {},
     "output_type": "execute_result"
    }
   ],
   "source": [
    "#Creating data with important features\n",
    "imp_features = ['keywords', 'cast', 'genres', 'director']\n",
    "data1 = data[imp_features]\n",
    "data1.head()"
   ]
  },
  {
   "cell_type": "code",
   "execution_count": 8,
   "id": "obvious-canal",
   "metadata": {
    "execution": {
     "iopub.execute_input": "2021-06-14T13:16:27.062045Z",
     "iopub.status.busy": "2021-06-14T13:16:27.058652Z",
     "iopub.status.idle": "2021-06-14T13:16:27.069057Z",
     "shell.execute_reply": "2021-06-14T13:16:27.068487Z",
     "shell.execute_reply.started": "2021-06-14T13:05:06.202832Z"
    },
    "papermill": {
     "duration": 0.037554,
     "end_time": "2021-06-14T13:16:27.069224",
     "exception": false,
     "start_time": "2021-06-14T13:16:27.031670",
     "status": "completed"
    },
    "tags": []
   },
   "outputs": [
    {
     "data": {
      "text/plain": [
       "keywords    412\n",
       "cast         43\n",
       "genres       28\n",
       "director     30\n",
       "dtype: int64"
      ]
     },
     "execution_count": 8,
     "metadata": {},
     "output_type": "execute_result"
    }
   ],
   "source": [
    "#Checking missing values\n",
    "data1.isnull().sum()"
   ]
  },
  {
   "cell_type": "code",
   "execution_count": 9,
   "id": "prerequisite-dressing",
   "metadata": {
    "execution": {
     "iopub.execute_input": "2021-06-14T13:16:27.124379Z",
     "iopub.status.busy": "2021-06-14T13:16:27.123327Z",
     "iopub.status.idle": "2021-06-14T13:16:27.126436Z",
     "shell.execute_reply": "2021-06-14T13:16:27.126984Z",
     "shell.execute_reply.started": "2021-06-14T13:05:59.451567Z"
    },
    "papermill": {
     "duration": 0.038185,
     "end_time": "2021-06-14T13:16:27.127212",
     "exception": false,
     "start_time": "2021-06-14T13:16:27.089027",
     "status": "completed"
    },
    "tags": []
   },
   "outputs": [],
   "source": [
    "#Replacing missing values\n",
    "missing_var = data1.isnull().sum().keys()\n",
    "for i in missing_var:\n",
    "    data1[i] = data1[i].fillna('')"
   ]
  },
  {
   "cell_type": "code",
   "execution_count": 10,
   "id": "cordless-thesis",
   "metadata": {
    "execution": {
     "iopub.execute_input": "2021-06-14T13:16:27.179651Z",
     "iopub.status.busy": "2021-06-14T13:16:27.178678Z",
     "iopub.status.idle": "2021-06-14T13:16:27.184637Z",
     "shell.execute_reply": "2021-06-14T13:16:27.183994Z",
     "shell.execute_reply.started": "2021-06-14T13:06:07.844666Z"
    },
    "papermill": {
     "duration": 0.037094,
     "end_time": "2021-06-14T13:16:27.184799",
     "exception": false,
     "start_time": "2021-06-14T13:16:27.147705",
     "status": "completed"
    },
    "tags": []
   },
   "outputs": [
    {
     "data": {
      "text/plain": [
       "keywords    0\n",
       "cast        0\n",
       "genres      0\n",
       "director    0\n",
       "dtype: int64"
      ]
     },
     "execution_count": 10,
     "metadata": {},
     "output_type": "execute_result"
    }
   ],
   "source": [
    "#Checking missing values\n",
    "data1.isnull().sum()"
   ]
  },
  {
   "cell_type": "code",
   "execution_count": 11,
   "id": "local-indonesia",
   "metadata": {
    "execution": {
     "iopub.execute_input": "2021-06-14T13:16:27.230434Z",
     "iopub.status.busy": "2021-06-14T13:16:27.229423Z",
     "iopub.status.idle": "2021-06-14T13:16:27.264416Z",
     "shell.execute_reply": "2021-06-14T13:16:27.264935Z",
     "shell.execute_reply.started": "2021-06-14T13:06:16.460243Z"
    },
    "papermill": {
     "duration": 0.061403,
     "end_time": "2021-06-14T13:16:27.265177",
     "exception": false,
     "start_time": "2021-06-14T13:16:27.203774",
     "status": "completed"
    },
    "tags": []
   },
   "outputs": [],
   "source": [
    "#Combining the values of the all features\n",
    "data1['Combined_features'] = data1['keywords']+' '+data1['cast']+' '+data1['genres']+' '+data1['director']"
   ]
  },
  {
   "cell_type": "code",
   "execution_count": 12,
   "id": "interpreted-creek",
   "metadata": {
    "execution": {
     "iopub.execute_input": "2021-06-14T13:16:27.335641Z",
     "iopub.status.busy": "2021-06-14T13:16:27.334609Z",
     "iopub.status.idle": "2021-06-14T13:16:27.339654Z",
     "shell.execute_reply": "2021-06-14T13:16:27.338842Z",
     "shell.execute_reply.started": "2021-06-14T13:06:25.704442Z"
    },
    "papermill": {
     "duration": 0.048196,
     "end_time": "2021-06-14T13:16:27.339836",
     "exception": false,
     "start_time": "2021-06-14T13:16:27.291640",
     "status": "completed"
    },
    "tags": []
   },
   "outputs": [
    {
     "data": {
      "text/plain": [
       "0    culture clash future space war space colony so...\n",
       "1    ocean drug abuse exotic island east india trad...\n",
       "2    spy based on novel secret agent sequel mi6 Dan...\n",
       "3    dc comics crime fighter terrorist secret ident...\n",
       "4    based on novel mars medallion space travel pri...\n",
       "Name: Combined_features, dtype: object"
      ]
     },
     "execution_count": 12,
     "metadata": {},
     "output_type": "execute_result"
    }
   ],
   "source": [
    "#Checking first five values of the combined features\n",
    "data1['Combined_features'][0:5]"
   ]
  },
  {
   "cell_type": "code",
   "execution_count": 13,
   "id": "sought-language",
   "metadata": {
    "execution": {
     "iopub.execute_input": "2021-06-14T13:16:27.393204Z",
     "iopub.status.busy": "2021-06-14T13:16:27.392241Z",
     "iopub.status.idle": "2021-06-14T13:16:27.396445Z",
     "shell.execute_reply": "2021-06-14T13:16:27.395768Z",
     "shell.execute_reply.started": "2021-06-14T13:06:57.647620Z"
    },
    "papermill": {
     "duration": 0.033955,
     "end_time": "2021-06-14T13:16:27.396608",
     "exception": false,
     "start_time": "2021-06-14T13:16:27.362653",
     "status": "completed"
    },
    "tags": []
   },
   "outputs": [],
   "source": [
    "#Creating an object of count victorizer\n",
    "cv = CountVectorizer()"
   ]
  },
  {
   "cell_type": "code",
   "execution_count": 14,
   "id": "victorian-publication",
   "metadata": {
    "execution": {
     "iopub.execute_input": "2021-06-14T13:16:27.457569Z",
     "iopub.status.busy": "2021-06-14T13:16:27.452136Z",
     "iopub.status.idle": "2021-06-14T13:16:27.635233Z",
     "shell.execute_reply": "2021-06-14T13:16:27.634499Z",
     "shell.execute_reply.started": "2021-06-14T13:07:24.353996Z"
    },
    "papermill": {
     "duration": 0.218288,
     "end_time": "2021-06-14T13:16:27.635406",
     "exception": false,
     "start_time": "2021-06-14T13:16:27.417118",
     "status": "completed"
    },
    "tags": []
   },
   "outputs": [],
   "source": [
    "#Creating count vectorization of combined features\n",
    "count_matrix = cv.fit_transform(data1['Combined_features'])"
   ]
  },
  {
   "cell_type": "code",
   "execution_count": 15,
   "id": "informative-meeting",
   "metadata": {
    "execution": {
     "iopub.execute_input": "2021-06-14T13:16:27.680813Z",
     "iopub.status.busy": "2021-06-14T13:16:27.680172Z",
     "iopub.status.idle": "2021-06-14T13:16:28.228983Z",
     "shell.execute_reply": "2021-06-14T13:16:28.228307Z",
     "shell.execute_reply.started": "2021-06-14T13:07:42.899194Z"
    },
    "papermill": {
     "duration": 0.573765,
     "end_time": "2021-06-14T13:16:28.229160",
     "exception": false,
     "start_time": "2021-06-14T13:16:27.655395",
     "status": "completed"
    },
    "tags": []
   },
   "outputs": [],
   "source": [
    "#Computing cosine similarity of count matrix\n",
    "cosin_sim = cosine_similarity(count_matrix)"
   ]
  },
  {
   "cell_type": "code",
   "execution_count": 16,
   "id": "second-mistake",
   "metadata": {
    "execution": {
     "iopub.execute_input": "2021-06-14T13:16:28.279490Z",
     "iopub.status.busy": "2021-06-14T13:16:28.278198Z",
     "iopub.status.idle": "2021-06-14T13:16:28.283600Z",
     "shell.execute_reply": "2021-06-14T13:16:28.282996Z",
     "shell.execute_reply.started": "2021-06-14T13:08:07.771227Z"
    },
    "papermill": {
     "duration": 0.03339,
     "end_time": "2021-06-14T13:16:28.283789",
     "exception": false,
     "start_time": "2021-06-14T13:16:28.250399",
     "status": "completed"
    },
    "tags": []
   },
   "outputs": [
    {
     "data": {
      "text/plain": [
       "array([0.19245009, 0.25560386, 0.12510865, ..., 0.04      , 0.        ,\n",
       "       0.        ])"
      ]
     },
     "execution_count": 16,
     "metadata": {},
     "output_type": "execute_result"
    }
   ],
   "source": [
    "#Checking first five values cosine similarity\n",
    "cosin_sim[5]"
   ]
  },
  {
   "cell_type": "code",
   "execution_count": 17,
   "id": "duplicate-rings",
   "metadata": {
    "execution": {
     "iopub.execute_input": "2021-06-14T13:16:28.337625Z",
     "iopub.status.busy": "2021-06-14T13:16:28.336784Z",
     "iopub.status.idle": "2021-06-14T13:16:28.340901Z",
     "shell.execute_reply": "2021-06-14T13:16:28.340311Z",
     "shell.execute_reply.started": "2021-06-14T13:13:56.812614Z"
    },
    "papermill": {
     "duration": 0.034441,
     "end_time": "2021-06-14T13:16:28.341107",
     "exception": false,
     "start_time": "2021-06-14T13:16:28.306666",
     "status": "completed"
    },
    "tags": []
   },
   "outputs": [],
   "source": [
    "#Defining function for movie recommendation system\n",
    "def get_recommender(movie_title):\n",
    "    #Finding an index number of given movie title which you like most\n",
    "    movie_index = data[data.title==movie_title]['index'].values[0]\n",
    "    \n",
    "    #Finding cosine similarity score with respect to an index number of given movie title which you like most\n",
    "    similar_movies = list(enumerate(cosin_sim[movie_index]))\n",
    "    \n",
    "    #Sorting cosine similarity scores in descending order\n",
    "    sorted_similar_movies = sorted(similar_movies,key=lambda x:x[1], reverse=True)\n",
    "    \n",
    "    #Extracting index numbers from sorted cosine similarity scores\n",
    "    movies_indices = [i[0] for i in sorted_similar_movies]\n",
    "    \n",
    "    #Extracting movies title with respect to extracted index numbers from sorted cosine similarity scores\n",
    "    movies_name = data['original_title'].iloc[movies_indices]\n",
    "    \n",
    "    #Creating dataframe of recommended movies name and resettig the index number\n",
    "    recommended_movies = pd.DataFrame()\n",
    "    recommended_movies['Recommended Movies'] = movies_name\n",
    "    recommended_movies = recommended_movies.reset_index(drop = True)\n",
    "    \n",
    "    #Showing the result\n",
    "    return recommended_movies.iloc[0:10]"
   ]
  },
  {
   "cell_type": "code",
   "execution_count": 18,
   "id": "prime-papua",
   "metadata": {
    "execution": {
     "iopub.execute_input": "2021-06-14T13:16:28.397869Z",
     "iopub.status.busy": "2021-06-14T13:16:28.396344Z",
     "iopub.status.idle": "2021-06-14T13:16:28.412355Z",
     "shell.execute_reply": "2021-06-14T13:16:28.411581Z",
     "shell.execute_reply.started": "2021-06-14T13:14:45.117363Z"
    },
    "papermill": {
     "duration": 0.049508,
     "end_time": "2021-06-14T13:16:28.412506",
     "exception": false,
     "start_time": "2021-06-14T13:16:28.362998",
     "status": "completed"
    },
    "tags": []
   },
   "outputs": [
    {
     "data": {
      "text/html": [
       "<div>\n",
       "<style scoped>\n",
       "    .dataframe tbody tr th:only-of-type {\n",
       "        vertical-align: middle;\n",
       "    }\n",
       "\n",
       "    .dataframe tbody tr th {\n",
       "        vertical-align: top;\n",
       "    }\n",
       "\n",
       "    .dataframe thead th {\n",
       "        text-align: right;\n",
       "    }\n",
       "</style>\n",
       "<table border=\"1\" class=\"dataframe\">\n",
       "  <thead>\n",
       "    <tr style=\"text-align: right;\">\n",
       "      <th></th>\n",
       "      <th>Recommended Movies</th>\n",
       "    </tr>\n",
       "  </thead>\n",
       "  <tbody>\n",
       "    <tr>\n",
       "      <th>0</th>\n",
       "      <td>Avatar</td>\n",
       "    </tr>\n",
       "    <tr>\n",
       "      <th>1</th>\n",
       "      <td>Guardians of the Galaxy</td>\n",
       "    </tr>\n",
       "    <tr>\n",
       "      <th>2</th>\n",
       "      <td>Aliens</td>\n",
       "    </tr>\n",
       "    <tr>\n",
       "      <th>3</th>\n",
       "      <td>Star Wars: Clone Wars (Volume 1)</td>\n",
       "    </tr>\n",
       "    <tr>\n",
       "      <th>4</th>\n",
       "      <td>Star Trek Into Darkness</td>\n",
       "    </tr>\n",
       "    <tr>\n",
       "      <th>5</th>\n",
       "      <td>Star Trek Beyond</td>\n",
       "    </tr>\n",
       "    <tr>\n",
       "      <th>6</th>\n",
       "      <td>Alien</td>\n",
       "    </tr>\n",
       "    <tr>\n",
       "      <th>7</th>\n",
       "      <td>Lockout</td>\n",
       "    </tr>\n",
       "    <tr>\n",
       "      <th>8</th>\n",
       "      <td>Jason X</td>\n",
       "    </tr>\n",
       "    <tr>\n",
       "      <th>9</th>\n",
       "      <td>The Helix... Loaded</td>\n",
       "    </tr>\n",
       "  </tbody>\n",
       "</table>\n",
       "</div>"
      ],
      "text/plain": [
       "                 Recommended Movies\n",
       "0                            Avatar\n",
       "1           Guardians of the Galaxy\n",
       "2                            Aliens\n",
       "3  Star Wars: Clone Wars (Volume 1)\n",
       "4           Star Trek Into Darkness\n",
       "5                  Star Trek Beyond\n",
       "6                             Alien\n",
       "7                           Lockout\n",
       "8                           Jason X\n",
       "9               The Helix... Loaded"
      ]
     },
     "execution_count": 18,
     "metadata": {},
     "output_type": "execute_result"
    }
   ],
   "source": [
    "#I like Avatar movie, Lets check the similar recommendations\n",
    "get_recommender('Avatar')"
   ]
  },
  {
   "cell_type": "markdown",
   "id": "junior-source",
   "metadata": {
    "papermill": {
     "duration": 0.022131,
     "end_time": "2021-06-14T13:16:28.458393",
     "exception": false,
     "start_time": "2021-06-14T13:16:28.436262",
     "status": "completed"
    },
    "tags": []
   },
   "source": [
    "Please upvote my work if you like!!!!\n",
    "\n",
    "Thank You!"
   ]
  }
 ],
 "metadata": {
  "kernelspec": {
   "display_name": "Python 3",
   "language": "python",
   "name": "python3"
  },
  "language_info": {
   "codemirror_mode": {
    "name": "ipython",
    "version": 3
   },
   "file_extension": ".py",
   "mimetype": "text/x-python",
   "name": "python",
   "nbconvert_exporter": "python",
   "pygments_lexer": "ipython3",
   "version": "3.7.9"
  },
  "papermill": {
   "default_parameters": {},
   "duration": 11.046053,
   "end_time": "2021-06-14T13:16:29.293539",
   "environment_variables": {},
   "exception": null,
   "input_path": "__notebook__.ipynb",
   "output_path": "__notebook__.ipynb",
   "parameters": {},
   "start_time": "2021-06-14T13:16:18.247486",
   "version": "2.3.2"
  }
 },
 "nbformat": 4,
 "nbformat_minor": 5
}
