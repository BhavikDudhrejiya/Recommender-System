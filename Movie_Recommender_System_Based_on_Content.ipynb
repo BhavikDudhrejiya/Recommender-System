{
  "nbformat": 4,
  "nbformat_minor": 0,
  "metadata": {
    "colab": {
      "name": "Movie Recommender_System_Based_on_Content.ipynb",
      "provenance": [],
      "collapsed_sections": [
        "_XJV-lapq7k3",
        "vPTvQtE_rFeS",
        "Dzpij3rWrhpZ",
        "f45rkCHm230L",
        "Y7AzSJ0c3jd9",
        "DGffj9Wo6YNu",
        "A-ngW_R0-gY_",
        "5rKW5jGV_ANq",
        "x1hhhUXd8J2z",
        "aJfReJ7vc1_e",
        "JtoD0dWPdEhT",
        "zWhDTD7DPgc0",
        "gtKliCsLE080",
        "AP4wUILMda16",
        "c7sDdNkGde5q",
        "kiD-KVyXdoVq",
        "YHmah7Qxd5pi"
      ],
      "mount_file_id": "1Apkknre9YCwFX7pEo1HWtZdlJ8EMWxb7",
      "authorship_tag": "ABX9TyMPxEcUAZ1H/DcaHOYjEWCt",
      "include_colab_link": true
    },
    "kernelspec": {
      "name": "python3",
      "display_name": "Python 3"
    },
    "language_info": {
      "name": "python"
    }
  },
  "cells": [
    {
      "cell_type": "markdown",
      "metadata": {
        "id": "view-in-github",
        "colab_type": "text"
      },
      "source": [
        "<a href=\"https://colab.research.google.com/github/BhavikDudhrejiya/Recommender-System/blob/main/Movie_Recommender_System_Based_on_Content.ipynb\" target=\"_parent\"><img src=\"https://colab.research.google.com/assets/colab-badge.svg\" alt=\"Open In Colab\"/></a>"
      ]
    },
    {
      "cell_type": "markdown",
      "source": [
        "#IMPORTING LIBRARIES"
      ],
      "metadata": {
        "id": "_XJV-lapq7k3"
      }
    },
    {
      "cell_type": "code",
      "source": [
        "import numpy as np\n",
        "import pandas as pd\n",
        "from sklearn.feature_extraction.text import CountVectorizer\n",
        "from nltk.stem import WordNetLemmatizer\n",
        "from nltk.corpus import wordnet\n",
        "import nltk\n",
        "nltk.download('wordnet')\n",
        "nltk.download('omw-1.4')\n",
        "from sklearn.metrics.pairwise import cosine_similarity\n",
        "import pickle"
      ],
      "metadata": {
        "id": "ZE6T9lhloWge",
        "colab": {
          "base_uri": "https://localhost:8080/"
        },
        "outputId": "0b943d92-fcdd-4d8d-d9de-f1c23de1aa1b"
      },
      "execution_count": 37,
      "outputs": [
        {
          "output_type": "stream",
          "name": "stderr",
          "text": [
            "[nltk_data] Downloading package wordnet to /root/nltk_data...\n",
            "[nltk_data]   Package wordnet is already up-to-date!\n",
            "[nltk_data] Downloading package omw-1.4 to /root/nltk_data...\n",
            "[nltk_data]   Unzipping corpora/omw-1.4.zip.\n"
          ]
        },
        {
          "output_type": "execute_result",
          "data": {
            "text/plain": [
              "True"
            ]
          },
          "metadata": {},
          "execution_count": 37
        }
      ]
    },
    {
      "cell_type": "markdown",
      "source": [
        "# LOADING DATA"
      ],
      "metadata": {
        "id": "vPTvQtE_rFeS"
      }
    },
    {
      "cell_type": "code",
      "source": [
        "movies = pd.read_csv('/content/drive/MyDrive/Colab Notebooks/Dataset/tmdb_5000_movies.csv')\n",
        "credits = pd.read_csv('/content/drive/MyDrive/Colab Notebooks/Dataset/tmdb_5000_credits.csv')"
      ],
      "metadata": {
        "id": "XUUE-JcAoWlu"
      },
      "execution_count": 2,
      "outputs": []
    },
    {
      "cell_type": "markdown",
      "source": [
        "#DATA EXPLORATION"
      ],
      "metadata": {
        "id": "Dzpij3rWrhpZ"
      }
    },
    {
      "cell_type": "code",
      "source": [
        "movies.head()"
      ],
      "metadata": {
        "colab": {
          "base_uri": "https://localhost:8080/",
          "height": 722
        },
        "id": "g4K0pE7koWoh",
        "outputId": "c0896ce6-1601-4f59-a21c-17e178d47ece"
      },
      "execution_count": 3,
      "outputs": [
        {
          "output_type": "execute_result",
          "data": {
            "text/plain": [
              "      budget                                             genres  \\\n",
              "0  237000000  [{\"id\": 28, \"name\": \"Action\"}, {\"id\": 12, \"nam...   \n",
              "1  300000000  [{\"id\": 12, \"name\": \"Adventure\"}, {\"id\": 14, \"...   \n",
              "2  245000000  [{\"id\": 28, \"name\": \"Action\"}, {\"id\": 12, \"nam...   \n",
              "3  250000000  [{\"id\": 28, \"name\": \"Action\"}, {\"id\": 80, \"nam...   \n",
              "4  260000000  [{\"id\": 28, \"name\": \"Action\"}, {\"id\": 12, \"nam...   \n",
              "\n",
              "                                       homepage      id  \\\n",
              "0                   http://www.avatarmovie.com/   19995   \n",
              "1  http://disney.go.com/disneypictures/pirates/     285   \n",
              "2   http://www.sonypictures.com/movies/spectre/  206647   \n",
              "3            http://www.thedarkknightrises.com/   49026   \n",
              "4          http://movies.disney.com/john-carter   49529   \n",
              "\n",
              "                                            keywords original_language  \\\n",
              "0  [{\"id\": 1463, \"name\": \"culture clash\"}, {\"id\":...                en   \n",
              "1  [{\"id\": 270, \"name\": \"ocean\"}, {\"id\": 726, \"na...                en   \n",
              "2  [{\"id\": 470, \"name\": \"spy\"}, {\"id\": 818, \"name...                en   \n",
              "3  [{\"id\": 849, \"name\": \"dc comics\"}, {\"id\": 853,...                en   \n",
              "4  [{\"id\": 818, \"name\": \"based on novel\"}, {\"id\":...                en   \n",
              "\n",
              "                             original_title  \\\n",
              "0                                    Avatar   \n",
              "1  Pirates of the Caribbean: At World's End   \n",
              "2                                   Spectre   \n",
              "3                     The Dark Knight Rises   \n",
              "4                               John Carter   \n",
              "\n",
              "                                            overview  popularity  \\\n",
              "0  In the 22nd century, a paraplegic Marine is di...  150.437577   \n",
              "1  Captain Barbossa, long believed to be dead, ha...  139.082615   \n",
              "2  A cryptic message from Bond’s past sends him o...  107.376788   \n",
              "3  Following the death of District Attorney Harve...  112.312950   \n",
              "4  John Carter is a war-weary, former military ca...   43.926995   \n",
              "\n",
              "                                production_companies  \\\n",
              "0  [{\"name\": \"Ingenious Film Partners\", \"id\": 289...   \n",
              "1  [{\"name\": \"Walt Disney Pictures\", \"id\": 2}, {\"...   \n",
              "2  [{\"name\": \"Columbia Pictures\", \"id\": 5}, {\"nam...   \n",
              "3  [{\"name\": \"Legendary Pictures\", \"id\": 923}, {\"...   \n",
              "4        [{\"name\": \"Walt Disney Pictures\", \"id\": 2}]   \n",
              "\n",
              "                                production_countries release_date     revenue  \\\n",
              "0  [{\"iso_3166_1\": \"US\", \"name\": \"United States o...   2009-12-10  2787965087   \n",
              "1  [{\"iso_3166_1\": \"US\", \"name\": \"United States o...   2007-05-19   961000000   \n",
              "2  [{\"iso_3166_1\": \"GB\", \"name\": \"United Kingdom\"...   2015-10-26   880674609   \n",
              "3  [{\"iso_3166_1\": \"US\", \"name\": \"United States o...   2012-07-16  1084939099   \n",
              "4  [{\"iso_3166_1\": \"US\", \"name\": \"United States o...   2012-03-07   284139100   \n",
              "\n",
              "   runtime                                   spoken_languages    status  \\\n",
              "0    162.0  [{\"iso_639_1\": \"en\", \"name\": \"English\"}, {\"iso...  Released   \n",
              "1    169.0           [{\"iso_639_1\": \"en\", \"name\": \"English\"}]  Released   \n",
              "2    148.0  [{\"iso_639_1\": \"fr\", \"name\": \"Fran\\u00e7ais\"},...  Released   \n",
              "3    165.0           [{\"iso_639_1\": \"en\", \"name\": \"English\"}]  Released   \n",
              "4    132.0           [{\"iso_639_1\": \"en\", \"name\": \"English\"}]  Released   \n",
              "\n",
              "                                          tagline  \\\n",
              "0                     Enter the World of Pandora.   \n",
              "1  At the end of the world, the adventure begins.   \n",
              "2                           A Plan No One Escapes   \n",
              "3                                 The Legend Ends   \n",
              "4            Lost in our world, found in another.   \n",
              "\n",
              "                                      title  vote_average  vote_count  \n",
              "0                                    Avatar           7.2       11800  \n",
              "1  Pirates of the Caribbean: At World's End           6.9        4500  \n",
              "2                                   Spectre           6.3        4466  \n",
              "3                     The Dark Knight Rises           7.6        9106  \n",
              "4                               John Carter           6.1        2124  "
            ],
            "text/html": [
              "\n",
              "  <div id=\"df-81c40fe7-bbdb-49ad-b909-c2ca2caf3aa8\">\n",
              "    <div class=\"colab-df-container\">\n",
              "      <div>\n",
              "<style scoped>\n",
              "    .dataframe tbody tr th:only-of-type {\n",
              "        vertical-align: middle;\n",
              "    }\n",
              "\n",
              "    .dataframe tbody tr th {\n",
              "        vertical-align: top;\n",
              "    }\n",
              "\n",
              "    .dataframe thead th {\n",
              "        text-align: right;\n",
              "    }\n",
              "</style>\n",
              "<table border=\"1\" class=\"dataframe\">\n",
              "  <thead>\n",
              "    <tr style=\"text-align: right;\">\n",
              "      <th></th>\n",
              "      <th>budget</th>\n",
              "      <th>genres</th>\n",
              "      <th>homepage</th>\n",
              "      <th>id</th>\n",
              "      <th>keywords</th>\n",
              "      <th>original_language</th>\n",
              "      <th>original_title</th>\n",
              "      <th>overview</th>\n",
              "      <th>popularity</th>\n",
              "      <th>production_companies</th>\n",
              "      <th>production_countries</th>\n",
              "      <th>release_date</th>\n",
              "      <th>revenue</th>\n",
              "      <th>runtime</th>\n",
              "      <th>spoken_languages</th>\n",
              "      <th>status</th>\n",
              "      <th>tagline</th>\n",
              "      <th>title</th>\n",
              "      <th>vote_average</th>\n",
              "      <th>vote_count</th>\n",
              "    </tr>\n",
              "  </thead>\n",
              "  <tbody>\n",
              "    <tr>\n",
              "      <th>0</th>\n",
              "      <td>237000000</td>\n",
              "      <td>[{\"id\": 28, \"name\": \"Action\"}, {\"id\": 12, \"nam...</td>\n",
              "      <td>http://www.avatarmovie.com/</td>\n",
              "      <td>19995</td>\n",
              "      <td>[{\"id\": 1463, \"name\": \"culture clash\"}, {\"id\":...</td>\n",
              "      <td>en</td>\n",
              "      <td>Avatar</td>\n",
              "      <td>In the 22nd century, a paraplegic Marine is di...</td>\n",
              "      <td>150.437577</td>\n",
              "      <td>[{\"name\": \"Ingenious Film Partners\", \"id\": 289...</td>\n",
              "      <td>[{\"iso_3166_1\": \"US\", \"name\": \"United States o...</td>\n",
              "      <td>2009-12-10</td>\n",
              "      <td>2787965087</td>\n",
              "      <td>162.0</td>\n",
              "      <td>[{\"iso_639_1\": \"en\", \"name\": \"English\"}, {\"iso...</td>\n",
              "      <td>Released</td>\n",
              "      <td>Enter the World of Pandora.</td>\n",
              "      <td>Avatar</td>\n",
              "      <td>7.2</td>\n",
              "      <td>11800</td>\n",
              "    </tr>\n",
              "    <tr>\n",
              "      <th>1</th>\n",
              "      <td>300000000</td>\n",
              "      <td>[{\"id\": 12, \"name\": \"Adventure\"}, {\"id\": 14, \"...</td>\n",
              "      <td>http://disney.go.com/disneypictures/pirates/</td>\n",
              "      <td>285</td>\n",
              "      <td>[{\"id\": 270, \"name\": \"ocean\"}, {\"id\": 726, \"na...</td>\n",
              "      <td>en</td>\n",
              "      <td>Pirates of the Caribbean: At World's End</td>\n",
              "      <td>Captain Barbossa, long believed to be dead, ha...</td>\n",
              "      <td>139.082615</td>\n",
              "      <td>[{\"name\": \"Walt Disney Pictures\", \"id\": 2}, {\"...</td>\n",
              "      <td>[{\"iso_3166_1\": \"US\", \"name\": \"United States o...</td>\n",
              "      <td>2007-05-19</td>\n",
              "      <td>961000000</td>\n",
              "      <td>169.0</td>\n",
              "      <td>[{\"iso_639_1\": \"en\", \"name\": \"English\"}]</td>\n",
              "      <td>Released</td>\n",
              "      <td>At the end of the world, the adventure begins.</td>\n",
              "      <td>Pirates of the Caribbean: At World's End</td>\n",
              "      <td>6.9</td>\n",
              "      <td>4500</td>\n",
              "    </tr>\n",
              "    <tr>\n",
              "      <th>2</th>\n",
              "      <td>245000000</td>\n",
              "      <td>[{\"id\": 28, \"name\": \"Action\"}, {\"id\": 12, \"nam...</td>\n",
              "      <td>http://www.sonypictures.com/movies/spectre/</td>\n",
              "      <td>206647</td>\n",
              "      <td>[{\"id\": 470, \"name\": \"spy\"}, {\"id\": 818, \"name...</td>\n",
              "      <td>en</td>\n",
              "      <td>Spectre</td>\n",
              "      <td>A cryptic message from Bond’s past sends him o...</td>\n",
              "      <td>107.376788</td>\n",
              "      <td>[{\"name\": \"Columbia Pictures\", \"id\": 5}, {\"nam...</td>\n",
              "      <td>[{\"iso_3166_1\": \"GB\", \"name\": \"United Kingdom\"...</td>\n",
              "      <td>2015-10-26</td>\n",
              "      <td>880674609</td>\n",
              "      <td>148.0</td>\n",
              "      <td>[{\"iso_639_1\": \"fr\", \"name\": \"Fran\\u00e7ais\"},...</td>\n",
              "      <td>Released</td>\n",
              "      <td>A Plan No One Escapes</td>\n",
              "      <td>Spectre</td>\n",
              "      <td>6.3</td>\n",
              "      <td>4466</td>\n",
              "    </tr>\n",
              "    <tr>\n",
              "      <th>3</th>\n",
              "      <td>250000000</td>\n",
              "      <td>[{\"id\": 28, \"name\": \"Action\"}, {\"id\": 80, \"nam...</td>\n",
              "      <td>http://www.thedarkknightrises.com/</td>\n",
              "      <td>49026</td>\n",
              "      <td>[{\"id\": 849, \"name\": \"dc comics\"}, {\"id\": 853,...</td>\n",
              "      <td>en</td>\n",
              "      <td>The Dark Knight Rises</td>\n",
              "      <td>Following the death of District Attorney Harve...</td>\n",
              "      <td>112.312950</td>\n",
              "      <td>[{\"name\": \"Legendary Pictures\", \"id\": 923}, {\"...</td>\n",
              "      <td>[{\"iso_3166_1\": \"US\", \"name\": \"United States o...</td>\n",
              "      <td>2012-07-16</td>\n",
              "      <td>1084939099</td>\n",
              "      <td>165.0</td>\n",
              "      <td>[{\"iso_639_1\": \"en\", \"name\": \"English\"}]</td>\n",
              "      <td>Released</td>\n",
              "      <td>The Legend Ends</td>\n",
              "      <td>The Dark Knight Rises</td>\n",
              "      <td>7.6</td>\n",
              "      <td>9106</td>\n",
              "    </tr>\n",
              "    <tr>\n",
              "      <th>4</th>\n",
              "      <td>260000000</td>\n",
              "      <td>[{\"id\": 28, \"name\": \"Action\"}, {\"id\": 12, \"nam...</td>\n",
              "      <td>http://movies.disney.com/john-carter</td>\n",
              "      <td>49529</td>\n",
              "      <td>[{\"id\": 818, \"name\": \"based on novel\"}, {\"id\":...</td>\n",
              "      <td>en</td>\n",
              "      <td>John Carter</td>\n",
              "      <td>John Carter is a war-weary, former military ca...</td>\n",
              "      <td>43.926995</td>\n",
              "      <td>[{\"name\": \"Walt Disney Pictures\", \"id\": 2}]</td>\n",
              "      <td>[{\"iso_3166_1\": \"US\", \"name\": \"United States o...</td>\n",
              "      <td>2012-03-07</td>\n",
              "      <td>284139100</td>\n",
              "      <td>132.0</td>\n",
              "      <td>[{\"iso_639_1\": \"en\", \"name\": \"English\"}]</td>\n",
              "      <td>Released</td>\n",
              "      <td>Lost in our world, found in another.</td>\n",
              "      <td>John Carter</td>\n",
              "      <td>6.1</td>\n",
              "      <td>2124</td>\n",
              "    </tr>\n",
              "  </tbody>\n",
              "</table>\n",
              "</div>\n",
              "      <button class=\"colab-df-convert\" onclick=\"convertToInteractive('df-81c40fe7-bbdb-49ad-b909-c2ca2caf3aa8')\"\n",
              "              title=\"Convert this dataframe to an interactive table.\"\n",
              "              style=\"display:none;\">\n",
              "        \n",
              "  <svg xmlns=\"http://www.w3.org/2000/svg\" height=\"24px\"viewBox=\"0 0 24 24\"\n",
              "       width=\"24px\">\n",
              "    <path d=\"M0 0h24v24H0V0z\" fill=\"none\"/>\n",
              "    <path d=\"M18.56 5.44l.94 2.06.94-2.06 2.06-.94-2.06-.94-.94-2.06-.94 2.06-2.06.94zm-11 1L8.5 8.5l.94-2.06 2.06-.94-2.06-.94L8.5 2.5l-.94 2.06-2.06.94zm10 10l.94 2.06.94-2.06 2.06-.94-2.06-.94-.94-2.06-.94 2.06-2.06.94z\"/><path d=\"M17.41 7.96l-1.37-1.37c-.4-.4-.92-.59-1.43-.59-.52 0-1.04.2-1.43.59L10.3 9.45l-7.72 7.72c-.78.78-.78 2.05 0 2.83L4 21.41c.39.39.9.59 1.41.59.51 0 1.02-.2 1.41-.59l7.78-7.78 2.81-2.81c.8-.78.8-2.07 0-2.86zM5.41 20L4 18.59l7.72-7.72 1.47 1.35L5.41 20z\"/>\n",
              "  </svg>\n",
              "      </button>\n",
              "      \n",
              "  <style>\n",
              "    .colab-df-container {\n",
              "      display:flex;\n",
              "      flex-wrap:wrap;\n",
              "      gap: 12px;\n",
              "    }\n",
              "\n",
              "    .colab-df-convert {\n",
              "      background-color: #E8F0FE;\n",
              "      border: none;\n",
              "      border-radius: 50%;\n",
              "      cursor: pointer;\n",
              "      display: none;\n",
              "      fill: #1967D2;\n",
              "      height: 32px;\n",
              "      padding: 0 0 0 0;\n",
              "      width: 32px;\n",
              "    }\n",
              "\n",
              "    .colab-df-convert:hover {\n",
              "      background-color: #E2EBFA;\n",
              "      box-shadow: 0px 1px 2px rgba(60, 64, 67, 0.3), 0px 1px 3px 1px rgba(60, 64, 67, 0.15);\n",
              "      fill: #174EA6;\n",
              "    }\n",
              "\n",
              "    [theme=dark] .colab-df-convert {\n",
              "      background-color: #3B4455;\n",
              "      fill: #D2E3FC;\n",
              "    }\n",
              "\n",
              "    [theme=dark] .colab-df-convert:hover {\n",
              "      background-color: #434B5C;\n",
              "      box-shadow: 0px 1px 3px 1px rgba(0, 0, 0, 0.15);\n",
              "      filter: drop-shadow(0px 1px 2px rgba(0, 0, 0, 0.3));\n",
              "      fill: #FFFFFF;\n",
              "    }\n",
              "  </style>\n",
              "\n",
              "      <script>\n",
              "        const buttonEl =\n",
              "          document.querySelector('#df-81c40fe7-bbdb-49ad-b909-c2ca2caf3aa8 button.colab-df-convert');\n",
              "        buttonEl.style.display =\n",
              "          google.colab.kernel.accessAllowed ? 'block' : 'none';\n",
              "\n",
              "        async function convertToInteractive(key) {\n",
              "          const element = document.querySelector('#df-81c40fe7-bbdb-49ad-b909-c2ca2caf3aa8');\n",
              "          const dataTable =\n",
              "            await google.colab.kernel.invokeFunction('convertToInteractive',\n",
              "                                                     [key], {});\n",
              "          if (!dataTable) return;\n",
              "\n",
              "          const docLinkHtml = 'Like what you see? Visit the ' +\n",
              "            '<a target=\"_blank\" href=https://colab.research.google.com/notebooks/data_table.ipynb>data table notebook</a>'\n",
              "            + ' to learn more about interactive tables.';\n",
              "          element.innerHTML = '';\n",
              "          dataTable['output_type'] = 'display_data';\n",
              "          await google.colab.output.renderOutput(dataTable, element);\n",
              "          const docLink = document.createElement('div');\n",
              "          docLink.innerHTML = docLinkHtml;\n",
              "          element.appendChild(docLink);\n",
              "        }\n",
              "      </script>\n",
              "    </div>\n",
              "  </div>\n",
              "  "
            ]
          },
          "metadata": {},
          "execution_count": 3
        }
      ]
    },
    {
      "cell_type": "code",
      "source": [
        "credits.head()"
      ],
      "metadata": {
        "colab": {
          "base_uri": "https://localhost:8080/",
          "height": 206
        },
        "id": "iL2jP9m1oWrf",
        "outputId": "b3ca7515-8e86-498d-c20d-be5914d66ec8"
      },
      "execution_count": 4,
      "outputs": [
        {
          "output_type": "execute_result",
          "data": {
            "text/plain": [
              "   movie_id                                     title  \\\n",
              "0     19995                                    Avatar   \n",
              "1       285  Pirates of the Caribbean: At World's End   \n",
              "2    206647                                   Spectre   \n",
              "3     49026                     The Dark Knight Rises   \n",
              "4     49529                               John Carter   \n",
              "\n",
              "                                                cast  \\\n",
              "0  [{\"cast_id\": 242, \"character\": \"Jake Sully\", \"...   \n",
              "1  [{\"cast_id\": 4, \"character\": \"Captain Jack Spa...   \n",
              "2  [{\"cast_id\": 1, \"character\": \"James Bond\", \"cr...   \n",
              "3  [{\"cast_id\": 2, \"character\": \"Bruce Wayne / Ba...   \n",
              "4  [{\"cast_id\": 5, \"character\": \"John Carter\", \"c...   \n",
              "\n",
              "                                                crew  \n",
              "0  [{\"credit_id\": \"52fe48009251416c750aca23\", \"de...  \n",
              "1  [{\"credit_id\": \"52fe4232c3a36847f800b579\", \"de...  \n",
              "2  [{\"credit_id\": \"54805967c3a36829b5002c41\", \"de...  \n",
              "3  [{\"credit_id\": \"52fe4781c3a36847f81398c3\", \"de...  \n",
              "4  [{\"credit_id\": \"52fe479ac3a36847f813eaa3\", \"de...  "
            ],
            "text/html": [
              "\n",
              "  <div id=\"df-76b9f8a5-dda1-4cb6-a747-36178ae70930\">\n",
              "    <div class=\"colab-df-container\">\n",
              "      <div>\n",
              "<style scoped>\n",
              "    .dataframe tbody tr th:only-of-type {\n",
              "        vertical-align: middle;\n",
              "    }\n",
              "\n",
              "    .dataframe tbody tr th {\n",
              "        vertical-align: top;\n",
              "    }\n",
              "\n",
              "    .dataframe thead th {\n",
              "        text-align: right;\n",
              "    }\n",
              "</style>\n",
              "<table border=\"1\" class=\"dataframe\">\n",
              "  <thead>\n",
              "    <tr style=\"text-align: right;\">\n",
              "      <th></th>\n",
              "      <th>movie_id</th>\n",
              "      <th>title</th>\n",
              "      <th>cast</th>\n",
              "      <th>crew</th>\n",
              "    </tr>\n",
              "  </thead>\n",
              "  <tbody>\n",
              "    <tr>\n",
              "      <th>0</th>\n",
              "      <td>19995</td>\n",
              "      <td>Avatar</td>\n",
              "      <td>[{\"cast_id\": 242, \"character\": \"Jake Sully\", \"...</td>\n",
              "      <td>[{\"credit_id\": \"52fe48009251416c750aca23\", \"de...</td>\n",
              "    </tr>\n",
              "    <tr>\n",
              "      <th>1</th>\n",
              "      <td>285</td>\n",
              "      <td>Pirates of the Caribbean: At World's End</td>\n",
              "      <td>[{\"cast_id\": 4, \"character\": \"Captain Jack Spa...</td>\n",
              "      <td>[{\"credit_id\": \"52fe4232c3a36847f800b579\", \"de...</td>\n",
              "    </tr>\n",
              "    <tr>\n",
              "      <th>2</th>\n",
              "      <td>206647</td>\n",
              "      <td>Spectre</td>\n",
              "      <td>[{\"cast_id\": 1, \"character\": \"James Bond\", \"cr...</td>\n",
              "      <td>[{\"credit_id\": \"54805967c3a36829b5002c41\", \"de...</td>\n",
              "    </tr>\n",
              "    <tr>\n",
              "      <th>3</th>\n",
              "      <td>49026</td>\n",
              "      <td>The Dark Knight Rises</td>\n",
              "      <td>[{\"cast_id\": 2, \"character\": \"Bruce Wayne / Ba...</td>\n",
              "      <td>[{\"credit_id\": \"52fe4781c3a36847f81398c3\", \"de...</td>\n",
              "    </tr>\n",
              "    <tr>\n",
              "      <th>4</th>\n",
              "      <td>49529</td>\n",
              "      <td>John Carter</td>\n",
              "      <td>[{\"cast_id\": 5, \"character\": \"John Carter\", \"c...</td>\n",
              "      <td>[{\"credit_id\": \"52fe479ac3a36847f813eaa3\", \"de...</td>\n",
              "    </tr>\n",
              "  </tbody>\n",
              "</table>\n",
              "</div>\n",
              "      <button class=\"colab-df-convert\" onclick=\"convertToInteractive('df-76b9f8a5-dda1-4cb6-a747-36178ae70930')\"\n",
              "              title=\"Convert this dataframe to an interactive table.\"\n",
              "              style=\"display:none;\">\n",
              "        \n",
              "  <svg xmlns=\"http://www.w3.org/2000/svg\" height=\"24px\"viewBox=\"0 0 24 24\"\n",
              "       width=\"24px\">\n",
              "    <path d=\"M0 0h24v24H0V0z\" fill=\"none\"/>\n",
              "    <path d=\"M18.56 5.44l.94 2.06.94-2.06 2.06-.94-2.06-.94-.94-2.06-.94 2.06-2.06.94zm-11 1L8.5 8.5l.94-2.06 2.06-.94-2.06-.94L8.5 2.5l-.94 2.06-2.06.94zm10 10l.94 2.06.94-2.06 2.06-.94-2.06-.94-.94-2.06-.94 2.06-2.06.94z\"/><path d=\"M17.41 7.96l-1.37-1.37c-.4-.4-.92-.59-1.43-.59-.52 0-1.04.2-1.43.59L10.3 9.45l-7.72 7.72c-.78.78-.78 2.05 0 2.83L4 21.41c.39.39.9.59 1.41.59.51 0 1.02-.2 1.41-.59l7.78-7.78 2.81-2.81c.8-.78.8-2.07 0-2.86zM5.41 20L4 18.59l7.72-7.72 1.47 1.35L5.41 20z\"/>\n",
              "  </svg>\n",
              "      </button>\n",
              "      \n",
              "  <style>\n",
              "    .colab-df-container {\n",
              "      display:flex;\n",
              "      flex-wrap:wrap;\n",
              "      gap: 12px;\n",
              "    }\n",
              "\n",
              "    .colab-df-convert {\n",
              "      background-color: #E8F0FE;\n",
              "      border: none;\n",
              "      border-radius: 50%;\n",
              "      cursor: pointer;\n",
              "      display: none;\n",
              "      fill: #1967D2;\n",
              "      height: 32px;\n",
              "      padding: 0 0 0 0;\n",
              "      width: 32px;\n",
              "    }\n",
              "\n",
              "    .colab-df-convert:hover {\n",
              "      background-color: #E2EBFA;\n",
              "      box-shadow: 0px 1px 2px rgba(60, 64, 67, 0.3), 0px 1px 3px 1px rgba(60, 64, 67, 0.15);\n",
              "      fill: #174EA6;\n",
              "    }\n",
              "\n",
              "    [theme=dark] .colab-df-convert {\n",
              "      background-color: #3B4455;\n",
              "      fill: #D2E3FC;\n",
              "    }\n",
              "\n",
              "    [theme=dark] .colab-df-convert:hover {\n",
              "      background-color: #434B5C;\n",
              "      box-shadow: 0px 1px 3px 1px rgba(0, 0, 0, 0.15);\n",
              "      filter: drop-shadow(0px 1px 2px rgba(0, 0, 0, 0.3));\n",
              "      fill: #FFFFFF;\n",
              "    }\n",
              "  </style>\n",
              "\n",
              "      <script>\n",
              "        const buttonEl =\n",
              "          document.querySelector('#df-76b9f8a5-dda1-4cb6-a747-36178ae70930 button.colab-df-convert');\n",
              "        buttonEl.style.display =\n",
              "          google.colab.kernel.accessAllowed ? 'block' : 'none';\n",
              "\n",
              "        async function convertToInteractive(key) {\n",
              "          const element = document.querySelector('#df-76b9f8a5-dda1-4cb6-a747-36178ae70930');\n",
              "          const dataTable =\n",
              "            await google.colab.kernel.invokeFunction('convertToInteractive',\n",
              "                                                     [key], {});\n",
              "          if (!dataTable) return;\n",
              "\n",
              "          const docLinkHtml = 'Like what you see? Visit the ' +\n",
              "            '<a target=\"_blank\" href=https://colab.research.google.com/notebooks/data_table.ipynb>data table notebook</a>'\n",
              "            + ' to learn more about interactive tables.';\n",
              "          element.innerHTML = '';\n",
              "          dataTable['output_type'] = 'display_data';\n",
              "          await google.colab.output.renderOutput(dataTable, element);\n",
              "          const docLink = document.createElement('div');\n",
              "          docLink.innerHTML = docLinkHtml;\n",
              "          element.appendChild(docLink);\n",
              "        }\n",
              "      </script>\n",
              "    </div>\n",
              "  </div>\n",
              "  "
            ]
          },
          "metadata": {},
          "execution_count": 4
        }
      ]
    },
    {
      "cell_type": "markdown",
      "source": [
        "# MERGING BOTH THE DATA"
      ],
      "metadata": {
        "id": "f45rkCHm230L"
      }
    },
    {
      "cell_type": "code",
      "source": [
        "movies = pd.merge(movies, credits, left_on='id', right_on='movie_id')\n",
        "movies.shape"
      ],
      "metadata": {
        "colab": {
          "base_uri": "https://localhost:8080/"
        },
        "id": "7-m7CuZw23Rg",
        "outputId": "4ab10589-de6c-4ca6-9e88-8cdfae2d5def"
      },
      "execution_count": 5,
      "outputs": [
        {
          "output_type": "execute_result",
          "data": {
            "text/plain": [
              "(4803, 24)"
            ]
          },
          "metadata": {},
          "execution_count": 5
        }
      ]
    },
    {
      "cell_type": "markdown",
      "source": [
        "# FEATURE SELECTION"
      ],
      "metadata": {
        "id": "Y7AzSJ0c3jd9"
      }
    },
    {
      "cell_type": "markdown",
      "source": [
        "![image.png](data:image/png;base64,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)"
      ],
      "metadata": {
        "id": "hWwxqoHs5gE9"
      }
    },
    {
      "cell_type": "markdown",
      "source": [
        "# CREATING NEW DATAFRAME WITH IMPORTANT FEATURES"
      ],
      "metadata": {
        "id": "DGffj9Wo6YNu"
      }
    },
    {
      "cell_type": "code",
      "source": [
        "movies = movies[['id', 'title_x', 'overview', 'genres', 'keywords', 'cast', 'crew']]"
      ],
      "metadata": {
        "id": "5C9MYBoZ4Ql_"
      },
      "execution_count": 12,
      "outputs": []
    },
    {
      "cell_type": "markdown",
      "source": [
        "#CHECKING & REMOVING MISSING VALUES"
      ],
      "metadata": {
        "id": "A-ngW_R0-gY_"
      }
    },
    {
      "cell_type": "code",
      "source": [
        "movies.isnull().sum()"
      ],
      "metadata": {
        "colab": {
          "base_uri": "https://localhost:8080/"
        },
        "id": "opNVMLlo-fcx",
        "outputId": "3531ea12-17aa-4fd5-f82a-5211d2ae9a82"
      },
      "execution_count": 14,
      "outputs": [
        {
          "output_type": "execute_result",
          "data": {
            "text/plain": [
              "id          0\n",
              "title_x     0\n",
              "overview    3\n",
              "genres      0\n",
              "keywords    0\n",
              "cast        0\n",
              "crew        0\n",
              "dtype: int64"
            ]
          },
          "metadata": {},
          "execution_count": 14
        }
      ]
    },
    {
      "cell_type": "code",
      "source": [
        "movies.dropna(inplace=True)"
      ],
      "metadata": {
        "id": "ZgloY40l-fgt",
        "colab": {
          "base_uri": "https://localhost:8080/"
        },
        "outputId": "0c085f05-0307-473f-8613-5bf779eab9a7"
      },
      "execution_count": 15,
      "outputs": [
        {
          "output_type": "stream",
          "name": "stderr",
          "text": [
            "/usr/local/lib/python3.7/dist-packages/pandas/util/_decorators.py:311: SettingWithCopyWarning: \n",
            "A value is trying to be set on a copy of a slice from a DataFrame\n",
            "\n",
            "See the caveats in the documentation: https://pandas.pydata.org/pandas-docs/stable/user_guide/indexing.html#returning-a-view-versus-a-copy\n",
            "  return func(*args, **kwargs)\n"
          ]
        }
      ]
    },
    {
      "cell_type": "code",
      "source": [
        "movies.isnull().sum()"
      ],
      "metadata": {
        "colab": {
          "base_uri": "https://localhost:8080/"
        },
        "id": "5Bx0b8im-fjV",
        "outputId": "3c6a79c9-6c1a-4f49-ed28-97195e18d469"
      },
      "execution_count": 16,
      "outputs": [
        {
          "output_type": "execute_result",
          "data": {
            "text/plain": [
              "id          0\n",
              "title_x     0\n",
              "overview    0\n",
              "genres      0\n",
              "keywords    0\n",
              "cast        0\n",
              "crew        0\n",
              "dtype: int64"
            ]
          },
          "metadata": {},
          "execution_count": 16
        }
      ]
    },
    {
      "cell_type": "code",
      "source": [
        "movies.shape"
      ],
      "metadata": {
        "colab": {
          "base_uri": "https://localhost:8080/"
        },
        "id": "4DN-vEYb-fmB",
        "outputId": "47b66143-a0df-4d5e-ff0f-a1f9b84727e8"
      },
      "execution_count": 17,
      "outputs": [
        {
          "output_type": "execute_result",
          "data": {
            "text/plain": [
              "(4800, 7)"
            ]
          },
          "metadata": {},
          "execution_count": 17
        }
      ]
    },
    {
      "cell_type": "markdown",
      "source": [
        "#CHECKING DUPLICATE"
      ],
      "metadata": {
        "id": "5rKW5jGV_ANq"
      }
    },
    {
      "cell_type": "code",
      "source": [
        "movies.duplicated().sum()"
      ],
      "metadata": {
        "colab": {
          "base_uri": "https://localhost:8080/"
        },
        "id": "yMS-RXH6-_Ms",
        "outputId": "7343375f-f46d-4b23-9f9e-1356eaac0d7d"
      },
      "execution_count": 18,
      "outputs": [
        {
          "output_type": "execute_result",
          "data": {
            "text/plain": [
              "0"
            ]
          },
          "metadata": {},
          "execution_count": 18
        }
      ]
    },
    {
      "cell_type": "markdown",
      "source": [
        "We require now three columns. movie_id, title, & tags"
      ],
      "metadata": {
        "id": "r6HG_kkD8BwW"
      }
    },
    {
      "cell_type": "markdown",
      "source": [
        "# FUNCTIONS"
      ],
      "metadata": {
        "id": "x1hhhUXd8J2z"
      }
    },
    {
      "cell_type": "code",
      "source": [
        "def parse_values(movies):\n",
        "  genres = []\n",
        "  for i in eval(movies):\n",
        "    genres.append(i['name'])\n",
        "  return genres\n",
        "\n",
        "def parse_cast_values(movies):\n",
        "  cast = []\n",
        "  for i,j in enumerate(eval(movies)):\n",
        "    if i<=2:\n",
        "      cast.append(j['name'])\n",
        "    else:\n",
        "      break\n",
        "  return cast\n",
        "\n",
        "def parse_director_values(movies):\n",
        "  director = []\n",
        "  for i in eval(movies):\n",
        "    if i['job']=='Director':\n",
        "      director.append(i['name'])\n",
        "      break\n",
        "  return director\n",
        "\n",
        "def lem(text):\n",
        "  y = []\n",
        "  for i in text.split():\n",
        "    y.append(lemmatizer.lemmatize(i,wordnet.VERB))\n",
        "  return \" \".join(y)\n",
        "\n",
        "def recommender(movies):\n",
        "  movies_index = new_movies[new_movies['title_x']==movies].index[0]\n",
        "  distances = similarity[movies_index]\n",
        "  movies_list = sorted(list(enumerate(distances)), reverse=True, key=lambda x:x[1])[1:6]\n",
        "  for i in movies_list:\n",
        "    print(new_movies.iloc[i[0]].title_x)"
      ],
      "metadata": {
        "id": "EnLECstOADq4"
      },
      "execution_count": 20,
      "outputs": []
    },
    {
      "cell_type": "markdown",
      "source": [
        "# FEATURE ENGINEERING"
      ],
      "metadata": {
        "id": "aJfReJ7vc1_e"
      }
    },
    {
      "cell_type": "code",
      "source": [
        "movies['genres'] = movies['genres'].apply(parse_values)\n",
        "movies['keywords'] = movies['keywords'].apply(parse_values)\n",
        "movies['cast'] = movies['cast'].apply(parse_cast_values)\n",
        "movies['crew'] = movies['crew'].apply(parse_director_values)\n",
        "movies['overview'] = movies['overview'].apply(lambda x:x.split())\n",
        "movies['genres'] = movies['genres'].apply(lambda x:[i.replace(' ','') for i in x])\n",
        "movies['keywords'] = movies['keywords'].apply(lambda x:[i.replace(' ','') for i in x])\n",
        "movies['cast'] = movies['cast'].apply(lambda x:[i.replace(' ','') for i in x])\n",
        "movies['crew'] = movies['crew'].apply(lambda x:[i.replace(' ','') for i in x])\n",
        "movies['tags'] = movies['overview']+movies['genres']+movies['keywords']+movies['cast']+movies['crew']"
      ],
      "metadata": {
        "id": "BZrNu2fB_RGp"
      },
      "execution_count": 21,
      "outputs": []
    },
    {
      "cell_type": "markdown",
      "source": [
        "#CREATING NEW DATAFAME FOR MOVIES"
      ],
      "metadata": {
        "id": "JtoD0dWPdEhT"
      }
    },
    {
      "cell_type": "code",
      "source": [
        "new_movies = movies[['id','title_x','tags']]\n",
        "new_movies['tags'] = new_movies['tags'].apply(lambda x:\" \".join(x))\n",
        "new_movies['tags'] = new_movies['tags'].apply(lambda x:x.lower())"
      ],
      "metadata": {
        "id": "uFTnF2rWD422"
      },
      "execution_count": 28,
      "outputs": []
    },
    {
      "cell_type": "code",
      "source": [
        "new_movies.head()"
      ],
      "metadata": {
        "colab": {
          "base_uri": "https://localhost:8080/",
          "height": 206
        },
        "id": "opl2dOXEBIfz",
        "outputId": "b469fa74-10b2-4826-9ca0-85c7d15d5213"
      },
      "execution_count": 31,
      "outputs": [
        {
          "output_type": "execute_result",
          "data": {
            "text/plain": [
              "       id                                   title_x  \\\n",
              "0   19995                                    Avatar   \n",
              "1     285  Pirates of the Caribbean: At World's End   \n",
              "2  206647                                   Spectre   \n",
              "3   49026                     The Dark Knight Rises   \n",
              "4   49529                               John Carter   \n",
              "\n",
              "                                                tags  \n",
              "0  in the 22nd century, a paraplegic marine is di...  \n",
              "1  captain barbossa, long believed to be dead, ha...  \n",
              "2  a cryptic message from bond’s past sends him o...  \n",
              "3  following the death of district attorney harve...  \n",
              "4  john carter is a war-weary, former military ca...  "
            ],
            "text/html": [
              "\n",
              "  <div id=\"df-cc98d993-b04e-41df-a770-6143ac034cb1\">\n",
              "    <div class=\"colab-df-container\">\n",
              "      <div>\n",
              "<style scoped>\n",
              "    .dataframe tbody tr th:only-of-type {\n",
              "        vertical-align: middle;\n",
              "    }\n",
              "\n",
              "    .dataframe tbody tr th {\n",
              "        vertical-align: top;\n",
              "    }\n",
              "\n",
              "    .dataframe thead th {\n",
              "        text-align: right;\n",
              "    }\n",
              "</style>\n",
              "<table border=\"1\" class=\"dataframe\">\n",
              "  <thead>\n",
              "    <tr style=\"text-align: right;\">\n",
              "      <th></th>\n",
              "      <th>id</th>\n",
              "      <th>title_x</th>\n",
              "      <th>tags</th>\n",
              "    </tr>\n",
              "  </thead>\n",
              "  <tbody>\n",
              "    <tr>\n",
              "      <th>0</th>\n",
              "      <td>19995</td>\n",
              "      <td>Avatar</td>\n",
              "      <td>in the 22nd century, a paraplegic marine is di...</td>\n",
              "    </tr>\n",
              "    <tr>\n",
              "      <th>1</th>\n",
              "      <td>285</td>\n",
              "      <td>Pirates of the Caribbean: At World's End</td>\n",
              "      <td>captain barbossa, long believed to be dead, ha...</td>\n",
              "    </tr>\n",
              "    <tr>\n",
              "      <th>2</th>\n",
              "      <td>206647</td>\n",
              "      <td>Spectre</td>\n",
              "      <td>a cryptic message from bond’s past sends him o...</td>\n",
              "    </tr>\n",
              "    <tr>\n",
              "      <th>3</th>\n",
              "      <td>49026</td>\n",
              "      <td>The Dark Knight Rises</td>\n",
              "      <td>following the death of district attorney harve...</td>\n",
              "    </tr>\n",
              "    <tr>\n",
              "      <th>4</th>\n",
              "      <td>49529</td>\n",
              "      <td>John Carter</td>\n",
              "      <td>john carter is a war-weary, former military ca...</td>\n",
              "    </tr>\n",
              "  </tbody>\n",
              "</table>\n",
              "</div>\n",
              "      <button class=\"colab-df-convert\" onclick=\"convertToInteractive('df-cc98d993-b04e-41df-a770-6143ac034cb1')\"\n",
              "              title=\"Convert this dataframe to an interactive table.\"\n",
              "              style=\"display:none;\">\n",
              "        \n",
              "  <svg xmlns=\"http://www.w3.org/2000/svg\" height=\"24px\"viewBox=\"0 0 24 24\"\n",
              "       width=\"24px\">\n",
              "    <path d=\"M0 0h24v24H0V0z\" fill=\"none\"/>\n",
              "    <path d=\"M18.56 5.44l.94 2.06.94-2.06 2.06-.94-2.06-.94-.94-2.06-.94 2.06-2.06.94zm-11 1L8.5 8.5l.94-2.06 2.06-.94-2.06-.94L8.5 2.5l-.94 2.06-2.06.94zm10 10l.94 2.06.94-2.06 2.06-.94-2.06-.94-.94-2.06-.94 2.06-2.06.94z\"/><path d=\"M17.41 7.96l-1.37-1.37c-.4-.4-.92-.59-1.43-.59-.52 0-1.04.2-1.43.59L10.3 9.45l-7.72 7.72c-.78.78-.78 2.05 0 2.83L4 21.41c.39.39.9.59 1.41.59.51 0 1.02-.2 1.41-.59l7.78-7.78 2.81-2.81c.8-.78.8-2.07 0-2.86zM5.41 20L4 18.59l7.72-7.72 1.47 1.35L5.41 20z\"/>\n",
              "  </svg>\n",
              "      </button>\n",
              "      \n",
              "  <style>\n",
              "    .colab-df-container {\n",
              "      display:flex;\n",
              "      flex-wrap:wrap;\n",
              "      gap: 12px;\n",
              "    }\n",
              "\n",
              "    .colab-df-convert {\n",
              "      background-color: #E8F0FE;\n",
              "      border: none;\n",
              "      border-radius: 50%;\n",
              "      cursor: pointer;\n",
              "      display: none;\n",
              "      fill: #1967D2;\n",
              "      height: 32px;\n",
              "      padding: 0 0 0 0;\n",
              "      width: 32px;\n",
              "    }\n",
              "\n",
              "    .colab-df-convert:hover {\n",
              "      background-color: #E2EBFA;\n",
              "      box-shadow: 0px 1px 2px rgba(60, 64, 67, 0.3), 0px 1px 3px 1px rgba(60, 64, 67, 0.15);\n",
              "      fill: #174EA6;\n",
              "    }\n",
              "\n",
              "    [theme=dark] .colab-df-convert {\n",
              "      background-color: #3B4455;\n",
              "      fill: #D2E3FC;\n",
              "    }\n",
              "\n",
              "    [theme=dark] .colab-df-convert:hover {\n",
              "      background-color: #434B5C;\n",
              "      box-shadow: 0px 1px 3px 1px rgba(0, 0, 0, 0.15);\n",
              "      filter: drop-shadow(0px 1px 2px rgba(0, 0, 0, 0.3));\n",
              "      fill: #FFFFFF;\n",
              "    }\n",
              "  </style>\n",
              "\n",
              "      <script>\n",
              "        const buttonEl =\n",
              "          document.querySelector('#df-cc98d993-b04e-41df-a770-6143ac034cb1 button.colab-df-convert');\n",
              "        buttonEl.style.display =\n",
              "          google.colab.kernel.accessAllowed ? 'block' : 'none';\n",
              "\n",
              "        async function convertToInteractive(key) {\n",
              "          const element = document.querySelector('#df-cc98d993-b04e-41df-a770-6143ac034cb1');\n",
              "          const dataTable =\n",
              "            await google.colab.kernel.invokeFunction('convertToInteractive',\n",
              "                                                     [key], {});\n",
              "          if (!dataTable) return;\n",
              "\n",
              "          const docLinkHtml = 'Like what you see? Visit the ' +\n",
              "            '<a target=\"_blank\" href=https://colab.research.google.com/notebooks/data_table.ipynb>data table notebook</a>'\n",
              "            + ' to learn more about interactive tables.';\n",
              "          element.innerHTML = '';\n",
              "          dataTable['output_type'] = 'display_data';\n",
              "          await google.colab.output.renderOutput(dataTable, element);\n",
              "          const docLink = document.createElement('div');\n",
              "          docLink.innerHTML = docLinkHtml;\n",
              "          element.appendChild(docLink);\n",
              "        }\n",
              "      </script>\n",
              "    </div>\n",
              "  </div>\n",
              "  "
            ]
          },
          "metadata": {},
          "execution_count": 31
        }
      ]
    },
    {
      "cell_type": "markdown",
      "source": [
        "#LEMMATIZATION"
      ],
      "metadata": {
        "id": "zWhDTD7DPgc0"
      }
    },
    {
      "cell_type": "code",
      "source": [
        "lemmatizer = WordNetLemmatizer()"
      ],
      "metadata": {
        "id": "BOSlhF3iPffR"
      },
      "execution_count": 33,
      "outputs": []
    },
    {
      "cell_type": "code",
      "source": [
        "new_movies['tags'] = new_movies['tags'].apply(lem)"
      ],
      "metadata": {
        "colab": {
          "base_uri": "https://localhost:8080/"
        },
        "id": "SnuFKkEGPfwr",
        "outputId": "d4864d8f-ff96-42cf-e17f-7ba995100c7a"
      },
      "execution_count": 38,
      "outputs": [
        {
          "output_type": "stream",
          "name": "stderr",
          "text": [
            "/usr/local/lib/python3.7/dist-packages/ipykernel_launcher.py:1: SettingWithCopyWarning: \n",
            "A value is trying to be set on a copy of a slice from a DataFrame.\n",
            "Try using .loc[row_indexer,col_indexer] = value instead\n",
            "\n",
            "See the caveats in the documentation: https://pandas.pydata.org/pandas-docs/stable/user_guide/indexing.html#returning-a-view-versus-a-copy\n",
            "  \"\"\"Entry point for launching an IPython kernel.\n"
          ]
        }
      ]
    },
    {
      "cell_type": "markdown",
      "source": [
        "#TEXT VECTORIZATION"
      ],
      "metadata": {
        "id": "gtKliCsLE080"
      }
    },
    {
      "cell_type": "code",
      "source": [
        "cv = CountVectorizer(max_features=5000, stop_words='english')"
      ],
      "metadata": {
        "id": "jjqG5NU5El2m"
      },
      "execution_count": 39,
      "outputs": []
    },
    {
      "cell_type": "code",
      "source": [
        "vectors = cv.fit_transform(new_movies['tags']).toarray()\n",
        "vectors"
      ],
      "metadata": {
        "colab": {
          "base_uri": "https://localhost:8080/"
        },
        "id": "yAiC5jITJWAp",
        "outputId": "43a241ee-e4df-4db9-cfa5-c0c9f5eaa7d4"
      },
      "execution_count": 40,
      "outputs": [
        {
          "output_type": "execute_result",
          "data": {
            "text/plain": [
              "array([[0, 0, 0, ..., 0, 0, 0],\n",
              "       [0, 0, 0, ..., 0, 0, 0],\n",
              "       [0, 0, 0, ..., 0, 0, 0],\n",
              "       ...,\n",
              "       [0, 0, 0, ..., 0, 0, 0],\n",
              "       [0, 0, 0, ..., 0, 0, 0],\n",
              "       [0, 0, 0, ..., 0, 0, 0]])"
            ]
          },
          "metadata": {},
          "execution_count": 40
        }
      ]
    },
    {
      "cell_type": "markdown",
      "source": [
        "#COMPUTE SIMILARITY SCORE"
      ],
      "metadata": {
        "id": "AP4wUILMda16"
      }
    },
    {
      "cell_type": "code",
      "source": [
        "similarity = cosine_similarity(vectors)"
      ],
      "metadata": {
        "id": "1bxDmo1hQSxZ"
      },
      "execution_count": 42,
      "outputs": []
    },
    {
      "cell_type": "markdown",
      "source": [
        "# RECOMMEND MOVIES"
      ],
      "metadata": {
        "id": "c7sDdNkGde5q"
      }
    },
    {
      "cell_type": "code",
      "source": [
        "recommender('Mortal Kombat')"
      ],
      "metadata": {
        "colab": {
          "base_uri": "https://localhost:8080/"
        },
        "id": "mtAcKLr5Z7_T",
        "outputId": "95120dcd-cd4b-4ee7-d844-0f76e37133ee"
      },
      "execution_count": 44,
      "outputs": [
        {
          "output_type": "stream",
          "name": "stdout",
          "text": [
            "Mortal Kombat: Annihilation\n",
            "Lara Croft: Tomb Raider\n",
            "Dragonslayer\n",
            "The Hebrew Hammer\n",
            "The Golden Child\n"
          ]
        }
      ]
    },
    {
      "cell_type": "markdown",
      "source": [
        "# SAVING SIMILARITY SCORE IN PICKLE FORMAT"
      ],
      "metadata": {
        "id": "kiD-KVyXdoVq"
      }
    },
    {
      "cell_type": "code",
      "source": [
        "with open('similarity_pkl', 'wb') as files:\n",
        "    pickle.dump(similarity, files)"
      ],
      "metadata": {
        "id": "em_QzgyWOSmI"
      },
      "execution_count": 52,
      "outputs": []
    },
    {
      "cell_type": "markdown",
      "source": [
        "#LOADING SIMILARITY SCORE PICKLE FILE"
      ],
      "metadata": {
        "id": "YHmah7Qxd5pi"
      }
    },
    {
      "cell_type": "code",
      "source": [
        "with open(\"similarity_pkl\",\"rb\") as f:\n",
        "    similarity = pickle.load(f)"
      ],
      "metadata": {
        "id": "B2T5C8CtOhHx"
      },
      "execution_count": 53,
      "outputs": []
    }
  ]
}